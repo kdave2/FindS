{
 "cells": [
  {
   "cell_type": "code",
   "execution_count": 1,
   "metadata": {},
   "outputs": [
    {
     "name": "stdout",
     "output_type": "stream",
     "text": [
      "1000 Experiments Ran\n",
      "Average # Examples Required: 18.375\n",
      "Target Concept:['Sunny', 'Warm', '?', '?', '?', '?']\n"
     ]
    }
   ],
   "source": [
    "# This program is an machine learning experiment with the FindS concept learning algorithm\n",
    "# The attribute EnjoySport indicates whether or not Aldo enjoys his favorite\n",
    "# water sport on this day\n",
    "#\n",
    "# For all possible days with the following attributes:\n",
    "# Sky: Sunny/Rainy\n",
    "# AirTemp: Warm/Cold\n",
    "# Humidity: Normal/High\n",
    "# Wind: Strong/Weak\n",
    "# Water: Warm/Cool\n",
    "# Forecast: Same/Change\n",
    "#\n",
    "# A training example for the hypothesis is True if it correctly predicts that\n",
    "# Aldo will enjoy his water sport on this day, and False otherwise\n",
    "\n",
    "import random\n",
    "\n",
    "attributes = [['Sunny','Rainy'],\n",
    "              ['Warm','Cold'],\n",
    "              ['Normal','High'],\n",
    "              ['Strong','Weak'],\n",
    "              ['Warm','Cool'],\n",
    "              ['Same','Change']]\n",
    "\n",
    "num_attributes = len(attributes)\n",
    "\n",
    "def getRandomTrainingExample(target_concept = ['?'] * num_attributes):\n",
    "    training_example = []\n",
    "    classification = True\n",
    "    for i in range(num_attributes):\n",
    "        training_example.append(attributes[i][random.randint(0,1)])\n",
    "        if target_concept[i] != '?' and target_concept[i] != training_example[i]:\n",
    "            classification = False\n",
    "    return training_example, classification\n",
    "\n",
    "def findS(training_examples = []):\n",
    "    # Intializes S to no value\n",
    "    hypothesis = ['0'] * num_attributes\n",
    "    for example in training_examples:\n",
    "        if example[1]:\n",
    "            for i in range(num_attributes):\n",
    "                example_attribute = example[0][i]\n",
    "                hypothesis_attribute = hypothesis[i]\n",
    "                if example_attribute == attributes[i][0]:\n",
    "                    if hypothesis_attribute == '0':\n",
    "                        hypothesis_attribute = attributes[i][0]\n",
    "                    elif hypothesis_attribute == attributes[i][1]:\n",
    "                        hypothesis_attribute = '?'\n",
    "                elif example_attribute == attributes[i][1]:\n",
    "                    if hypothesis_attribute == '0':\n",
    "                        hypothesis_attribute = attributes[i][1]\n",
    "                    elif hypothesis_attribute == attributes[i][0]:\n",
    "                        hypothesis_attribute = '?'\n",
    "                hypothesis[i] = hypothesis_attribute\n",
    "    return hypothesis\n",
    "\n",
    "def experiment(target_concept = ['?'] * num_attributes):\n",
    "    training_examples = []\n",
    "    while findS(training_examples) != target_concept:\n",
    "        training_examples.append(getRandomTrainingExample(target_concept))\n",
    "    return len(training_examples)\n",
    "\n",
    "def main():\n",
    "    target_concept = ['Sunny','Warm','?','?','?','?']\n",
    "    num_experiments = 1000\n",
    "    experiment_results = []\n",
    "    for i in range(num_experiments):\n",
    "        experiment_results.append(experiment(target_concept))\n",
    "    average_result = sum(experiment_results) / num_experiments\n",
    "\n",
    "    print(str(len(experiment_results)) + ' Experiments Ran')\n",
    "    print('Average # Examples Required: ' + str(average_result))\n",
    "    print('Target Concept:' + str(target_concept))\n",
    "\n",
    "if __name__ == \"__main__\":\n",
    "    main()"
   ]
  },
  {
   "cell_type": "code",
   "execution_count": null,
   "metadata": {
    "collapsed": true
   },
   "outputs": [],
   "source": []
  }
 ],
 "metadata": {
  "kernelspec": {
   "display_name": "Python 3",
   "language": "python",
   "name": "python3"
  },
  "language_info": {
   "codemirror_mode": {
    "name": "ipython",
    "version": 3
   },
   "file_extension": ".py",
   "mimetype": "text/x-python",
   "name": "python",
   "nbconvert_exporter": "python",
   "pygments_lexer": "ipython3",
   "version": "3.6.3"
  }
 },
 "nbformat": 4,
 "nbformat_minor": 2
}
